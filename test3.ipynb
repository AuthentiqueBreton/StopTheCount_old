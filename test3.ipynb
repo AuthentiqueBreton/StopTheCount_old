{
 "cells": [
  {
   "cell_type": "code",
   "execution_count": 1,
   "metadata": {},
   "outputs": [],
   "source": [
    "import logging\n",
    "import script.counting.count as cc"
   ]
  },
  {
   "cell_type": "code",
   "execution_count": 2,
   "metadata": {},
   "outputs": [],
   "source": [
    "logging.basicConfig(\n",
    "    style='{',\n",
    "    format='[{asctime}] {levelname} {message}',\n",
    "    datefmt='%Y-%m-%d %H:%M:%S',\n",
    "    level=logging.INFO\n",
    ")"
   ]
  },
  {
   "cell_type": "code",
   "execution_count": 3,
   "metadata": {},
   "outputs": [
    {
     "name": "stderr",
     "output_type": "stream",
     "text": [
      "[2023-12-03 23:48:18] INFO Retrieved 205 proposals\n",
      "[2023-12-03 23:48:18] INFO 68.29% have been cleaned\n"
     ]
    },
    {
     "ename": "TypeError",
     "evalue": "unsupported operand type(s) for +: 'int' and 'dict'",
     "output_type": "error",
     "traceback": [
      "\u001b[1;31m---------------------------------------------------------------------------\u001b[0m",
      "\u001b[1;31mTypeError\u001b[0m                                 Traceback (most recent call last)",
      "\u001b[1;32md:\\Dev\\Python\\Twitter\\StopTheCount\\test3.ipynb Cell 3\u001b[0m line \u001b[0;36m<cell line: 1>\u001b[1;34m()\u001b[0m\n\u001b[1;32m----> <a href='vscode-notebook-cell:/d%3A/Dev/Python/Twitter/StopTheCount/test3.ipynb#W2sZmlsZQ%3D%3D?line=0'>1</a>\u001b[0m results \u001b[39m=\u001b[39m cc\u001b[39m.\u001b[39;49mget_proposals_without_api(\u001b[39m\"\u001b[39;49m\u001b[39mhttps://twitter.com/Pop_Kulture1/status/1731318032130093202\u001b[39;49m\u001b[39m\"\u001b[39;49m, n_proposals\u001b[39m=\u001b[39;49m\u001b[39m20\u001b[39;49m)\n",
      "File \u001b[1;32md:\\Dev\\Python\\Twitter\\StopTheCount\\script\\counting\\count.py:52\u001b[0m, in \u001b[0;36mget_proposals_without_api\u001b[1;34m(tweet_url, n_proposals)\u001b[0m\n\u001b[0;32m     49\u001b[0m LOGGER\u001b[39m.\u001b[39minfo(\u001b[39m'\u001b[39m\u001b[39m%s\u001b[39;00m\u001b[39m%%\u001b[39;00m\u001b[39m have been cleaned\u001b[39m\u001b[39m'\u001b[39m, \u001b[39mround\u001b[39m(modified_proportion, \u001b[39m2\u001b[39m))\n\u001b[0;32m     51\u001b[0m grouped_proposals \u001b[39m=\u001b[39m gp\u001b[39m.\u001b[39mgroup(extracted_proposals, \u001b[39m0.95\u001b[39m)\n\u001b[1;32m---> 52\u001b[0m \u001b[39mreturn\u001b[39;00m get_tabulate_result(grouped_proposals)\n",
      "File \u001b[1;32md:\\Dev\\Python\\Twitter\\StopTheCount\\script\\counting\\count.py:81\u001b[0m, in \u001b[0;36mget_tabulate_result\u001b[1;34m(grouped_proposals)\u001b[0m\n\u001b[0;32m     77\u001b[0m \u001b[39mdef\u001b[39;00m \u001b[39mget_tabulate_result\u001b[39m(grouped_proposals):\n\u001b[0;32m     78\u001b[0m     \u001b[39m\"\"\"\u001b[39;00m\n\u001b[0;32m     79\u001b[0m \u001b[39m    TO DO\u001b[39;00m\n\u001b[0;32m     80\u001b[0m \u001b[39m    \"\"\"\u001b[39;00m\n\u001b[1;32m---> 81\u001b[0m     total \u001b[39m=\u001b[39m \u001b[39msum\u001b[39;49m(grouped_proposals\u001b[39m.\u001b[39;49mvalues())\n\u001b[0;32m     82\u001b[0m     sorted_count \u001b[39m=\u001b[39m \u001b[39msorted\u001b[39m(grouped_proposals\u001b[39m.\u001b[39mitems(), key\u001b[39m=\u001b[39m\u001b[39mlambda\u001b[39;00m x:x[\u001b[39m1\u001b[39m], reverse\u001b[39m=\u001b[39m\u001b[39mTrue\u001b[39;00m)\n\u001b[0;32m     84\u001b[0m     final_results \u001b[39m=\u001b[39m []\n",
      "\u001b[1;31mTypeError\u001b[0m: unsupported operand type(s) for +: 'int' and 'dict'"
     ]
    }
   ],
   "source": [
    "results = cc.get_proposals_without_api(\"https://twitter.com/Pop_Kulture1/status/1731318032130093202\", n_proposals=20)"
   ]
  },
  {
   "cell_type": "code",
   "execution_count": null,
   "metadata": {},
   "outputs": [
    {
     "data": {
      "text/plain": [
       "12734"
      ]
     },
     "execution_count": 4,
     "metadata": {},
     "output_type": "execute_result"
    }
   ],
   "source": [
    "file = open('result.txt', 'w')\n",
    "file.write(results)"
   ]
  }
 ],
 "metadata": {
  "kernelspec": {
   "display_name": "Python 3",
   "language": "python",
   "name": "python3"
  },
  "language_info": {
   "codemirror_mode": {
    "name": "ipython",
    "version": 3
   },
   "file_extension": ".py",
   "mimetype": "text/x-python",
   "name": "python",
   "nbconvert_exporter": "python",
   "pygments_lexer": "ipython3",
   "version": "3.10.2"
  },
  "orig_nbformat": 4
 },
 "nbformat": 4,
 "nbformat_minor": 2
}
